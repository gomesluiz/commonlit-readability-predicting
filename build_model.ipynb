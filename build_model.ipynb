{
 "cells": [
  {
   "cell_type": "code",
   "execution_count": 1,
   "id": "under-priest",
   "metadata": {
    "_cell_guid": "b1076dfc-b9ad-4769-8c92-a6c4dae69d19",
    "_uuid": "8f2839f25d086af736a60e9eeb907d3b93b6e0e5",
    "execution": {
     "iopub.execute_input": "2021-08-02T10:03:47.764156Z",
     "iopub.status.busy": "2021-08-02T10:03:47.763420Z",
     "iopub.status.idle": "2021-08-02T10:03:55.043625Z",
     "shell.execute_reply": "2021-08-02T10:03:55.044803Z",
     "shell.execute_reply.started": "2021-08-02T09:54:04.242526Z"
    },
    "papermill": {
     "duration": 7.311376,
     "end_time": "2021-08-02T10:03:55.045144",
     "exception": false,
     "start_time": "2021-08-02T10:03:47.733768",
     "status": "completed"
    },
    "tags": []
   },
   "outputs": [
    {
     "name": "stdout",
     "output_type": "stream",
     "text": [
      "/kaggle/input/commonlitreadabilityprize/sample_submission.csv\n",
      "/kaggle/input/commonlitreadabilityprize/train.csv\n",
      "/kaggle/input/commonlitreadabilityprize/test.csv\n"
     ]
    }
   ],
   "source": [
    "# This Python 3 environment comes with many helpful analytics libraries installed\n",
    "# It is defined by the kaggle/python Docker image: https://github.com/kaggle/docker-python\n",
    "# For example, here's several helpful packages to load\n",
    "\n",
    "import os \n",
    "import numpy as np  # linear algebra\n",
    "import pandas as pd # data processing, CSV file I/O (e.g. pd.read_csv)\n",
    "import torch \n",
    "import unicodedata\n",
    "import random\n",
    "import sklearn \n",
    "\n",
    "from sklearn.metrics import mean_squared_error\n",
    "from sklearn.model_selection import train_test_split\n",
    "\n",
    "from transformers import (\n",
    "    DistilBertForSequenceClassification, \n",
    "    DistilBertTokenizer, \n",
    "    EvalPrediction,\n",
    "    Trainer, \n",
    "    TrainingArguments,\n",
    "    set_seed\n",
    ")\n",
    "\n",
    "# path to distilbert pre-trained model.\n",
    "PRETRAINED_INPUT_DIR  = '/kaggle/input/bert-pretrained-models-data/distilbert/'\n",
    "\n",
    "# path to temporary working dir.\n",
    "WORK_OUTPUT_DIR = '/kaggle/working/'\n",
    "\n",
    "RANDOM_SEED = 2021\n",
    "# Input data files are available in the read-only \"../input/\" directory\n",
    "# For example, running this (by clicking run or pressing Shift+Enter) will list all files under the input directory\n",
    "for dirname, _, filenames in os.walk('/kaggle/input/commonlitreadabilityprize/'):\n",
    "    for filename in filenames:\n",
    "        print(os.path.join(dirname, filename))\n",
    "\n",
    "# You can write up to 20GB to the current directory (/kaggle/working/) that gets preserved as output when you create a version using \"Save & Run All\" \n",
    "# You can also write temporary files to /kaggle/temp/, but they won't be saved outside of the current session"
   ]
  },
  {
   "cell_type": "code",
   "execution_count": 2,
   "id": "further-french",
   "metadata": {
    "execution": {
     "iopub.execute_input": "2021-08-02T10:03:55.082783Z",
     "iopub.status.busy": "2021-08-02T10:03:55.081931Z",
     "iopub.status.idle": "2021-08-02T10:03:55.091643Z",
     "shell.execute_reply": "2021-08-02T10:03:55.092271Z",
     "shell.execute_reply.started": "2021-08-02T09:54:04.274291Z"
    },
    "papermill": {
     "duration": 0.031211,
     "end_time": "2021-08-02T10:03:55.092519",
     "exception": false,
     "start_time": "2021-08-02T10:03:55.061308",
     "status": "completed"
    },
    "tags": []
   },
   "outputs": [
    {
     "name": "stdout",
     "output_type": "stream",
     "text": [
      "Start Time (hh:mm:ss.ms) 2021-08-02 10:03:55.079628\n",
      "Reproducibility configured.\n"
     ]
    }
   ],
   "source": [
    "from datetime import datetime \n",
    "start_time = datetime.now() \n",
    "print('Start Time (hh:mm:ss.ms) {}'.format(start_time))\n",
    "np.random.seed(RANDOM_SEED)\n",
    "random.seed(RANDOM_SEED)\n",
    "torch.manual_seed(RANDOM_SEED)\n",
    "set_seed(RANDOM_SEED)\n",
    "print(\"Reproducibility configured.\")"
   ]
  },
  {
   "cell_type": "markdown",
   "id": "limiting-frame",
   "metadata": {
    "papermill": {
     "duration": 0.014816,
     "end_time": "2021-08-02T10:03:55.122385",
     "exception": false,
     "start_time": "2021-08-02T10:03:55.107569",
     "status": "completed"
    },
    "tags": []
   },
   "source": [
    "# Load train and test datasets"
   ]
  },
  {
   "cell_type": "code",
   "execution_count": 3,
   "id": "attended-louis",
   "metadata": {
    "execution": {
     "iopub.execute_input": "2021-08-02T10:03:55.161802Z",
     "iopub.status.busy": "2021-08-02T10:03:55.161184Z",
     "iopub.status.idle": "2021-08-02T10:03:55.308899Z",
     "shell.execute_reply": "2021-08-02T10:03:55.308334Z",
     "shell.execute_reply.started": "2021-08-02T09:54:04.288729Z"
    },
    "papermill": {
     "duration": 0.17135,
     "end_time": "2021-08-02T10:03:55.309031",
     "exception": false,
     "start_time": "2021-08-02T10:03:55.137681",
     "status": "completed"
    },
    "tags": []
   },
   "outputs": [
    {
     "data": {
      "text/html": [
       "<div>\n",
       "<style scoped>\n",
       "    .dataframe tbody tr th:only-of-type {\n",
       "        vertical-align: middle;\n",
       "    }\n",
       "\n",
       "    .dataframe tbody tr th {\n",
       "        vertical-align: top;\n",
       "    }\n",
       "\n",
       "    .dataframe thead th {\n",
       "        text-align: right;\n",
       "    }\n",
       "</style>\n",
       "<table border=\"1\" class=\"dataframe\">\n",
       "  <thead>\n",
       "    <tr style=\"text-align: right;\">\n",
       "      <th></th>\n",
       "      <th>id</th>\n",
       "      <th>url_legal</th>\n",
       "      <th>license</th>\n",
       "      <th>text</th>\n",
       "      <th>label</th>\n",
       "      <th>standard_error</th>\n",
       "    </tr>\n",
       "  </thead>\n",
       "  <tbody>\n",
       "    <tr>\n",
       "      <th>0</th>\n",
       "      <td>c12129c31</td>\n",
       "      <td>NaN</td>\n",
       "      <td>NaN</td>\n",
       "      <td>When the young people returned to the ballroom...</td>\n",
       "      <td>-0.340259</td>\n",
       "      <td>0.464009</td>\n",
       "    </tr>\n",
       "    <tr>\n",
       "      <th>1</th>\n",
       "      <td>85aa80a4c</td>\n",
       "      <td>NaN</td>\n",
       "      <td>NaN</td>\n",
       "      <td>All through dinner time, Mrs. Fayre was somewh...</td>\n",
       "      <td>-0.315372</td>\n",
       "      <td>0.480805</td>\n",
       "    </tr>\n",
       "    <tr>\n",
       "      <th>2</th>\n",
       "      <td>b69ac6792</td>\n",
       "      <td>NaN</td>\n",
       "      <td>NaN</td>\n",
       "      <td>As Roger had predicted, the snow departed as q...</td>\n",
       "      <td>-0.580118</td>\n",
       "      <td>0.476676</td>\n",
       "    </tr>\n",
       "    <tr>\n",
       "      <th>3</th>\n",
       "      <td>dd1000b26</td>\n",
       "      <td>NaN</td>\n",
       "      <td>NaN</td>\n",
       "      <td>And outside before the palace a great garden w...</td>\n",
       "      <td>-1.054013</td>\n",
       "      <td>0.450007</td>\n",
       "    </tr>\n",
       "    <tr>\n",
       "      <th>4</th>\n",
       "      <td>37c1b32fb</td>\n",
       "      <td>NaN</td>\n",
       "      <td>NaN</td>\n",
       "      <td>Once upon a time there were Three Bears who li...</td>\n",
       "      <td>0.247197</td>\n",
       "      <td>0.510845</td>\n",
       "    </tr>\n",
       "  </tbody>\n",
       "</table>\n",
       "</div>"
      ],
      "text/plain": [
       "          id url_legal license  \\\n",
       "0  c12129c31       NaN     NaN   \n",
       "1  85aa80a4c       NaN     NaN   \n",
       "2  b69ac6792       NaN     NaN   \n",
       "3  dd1000b26       NaN     NaN   \n",
       "4  37c1b32fb       NaN     NaN   \n",
       "\n",
       "                                                text     label  standard_error  \n",
       "0  When the young people returned to the ballroom... -0.340259        0.464009  \n",
       "1  All through dinner time, Mrs. Fayre was somewh... -0.315372        0.480805  \n",
       "2  As Roger had predicted, the snow departed as q... -0.580118        0.476676  \n",
       "3  And outside before the palace a great garden w... -1.054013        0.450007  \n",
       "4  Once upon a time there were Three Bears who li...  0.247197        0.510845  "
      ]
     },
     "execution_count": 3,
     "metadata": {},
     "output_type": "execute_result"
    }
   ],
   "source": [
    "train_dataframe = pd.read_csv('datasets/train.csv', doublequote=True)\n",
    "train_dataframe = train_dataframe.rename(columns={'excerpt':'text', 'target':'label'})\n",
    "train_dataframe.head()"
   ]
  },
  {
   "cell_type": "code",
   "execution_count": 4,
   "id": "express-sudan",
   "metadata": {
    "execution": {
     "iopub.execute_input": "2021-08-02T10:03:55.351091Z",
     "iopub.status.busy": "2021-08-02T10:03:55.350336Z",
     "iopub.status.idle": "2021-08-02T10:03:55.355414Z",
     "shell.execute_reply": "2021-08-02T10:03:55.354708Z",
     "shell.execute_reply.started": "2021-08-02T09:54:04.404756Z"
    },
    "papermill": {
     "duration": 0.031307,
     "end_time": "2021-08-02T10:03:55.355598",
     "exception": false,
     "start_time": "2021-08-02T10:03:55.324291",
     "status": "completed"
    },
    "tags": []
   },
   "outputs": [
    {
     "name": "stdout",
     "output_type": "stream",
     "text": [
      "Train set has 2125 rows, and valid set has 709 rows\n"
     ]
    }
   ],
   "source": [
    "train_texts, train_labels = list(train_dataframe['text']), list(train_dataframe['label'])\n",
    "train_texts, valid_texts, train_labels, valid_labels = train_test_split(train_texts, train_labels, test_size=.25, random_state=RANDOM_SEED)\n",
    "print(\"Train set has {} rows, and valid set has {} rows\".format(len(train_texts), len(valid_texts)))"
   ]
  },
  {
   "cell_type": "code",
   "execution_count": 5,
   "id": "restricted-association",
   "metadata": {
    "execution": {
     "iopub.execute_input": "2021-08-02T10:03:55.392188Z",
     "iopub.status.busy": "2021-08-02T10:03:55.391569Z",
     "iopub.status.idle": "2021-08-02T10:04:12.004203Z",
     "shell.execute_reply": "2021-08-02T10:04:12.003721Z",
     "shell.execute_reply.started": "2021-08-02T09:54:04.441376Z"
    },
    "papermill": {
     "duration": 16.632472,
     "end_time": "2021-08-02T10:04:12.004342",
     "exception": false,
     "start_time": "2021-08-02T10:03:55.371870",
     "status": "completed"
    },
    "tags": []
   },
   "outputs": [
    {
     "name": "stdout",
     "output_type": "stream",
     "text": [
      "Train and valid sets tokenized\n"
     ]
    }
   ],
   "source": [
    "tokenizer = DistilBertTokenizer.from_pretrained(PRETRAINED_INPUT_DIR)\n",
    "train_encodings = tokenizer(train_texts, truncation=True, padding=True)\n",
    "valid_encodings = tokenizer(valid_texts, truncation=True, padding=True)\n",
    "print('Train and valid sets tokenized')"
   ]
  },
  {
   "cell_type": "code",
   "execution_count": 6,
   "id": "natural-frost",
   "metadata": {
    "execution": {
     "iopub.execute_input": "2021-08-02T10:04:12.043716Z",
     "iopub.status.busy": "2021-08-02T10:04:12.042911Z",
     "iopub.status.idle": "2021-08-02T10:04:12.046695Z",
     "shell.execute_reply": "2021-08-02T10:04:12.047434Z",
     "shell.execute_reply.started": "2021-08-02T09:54:19.579449Z"
    },
    "papermill": {
     "duration": 0.027931,
     "end_time": "2021-08-02T10:04:12.047650",
     "exception": false,
     "start_time": "2021-08-02T10:04:12.019719",
     "status": "completed"
    },
    "tags": []
   },
   "outputs": [
    {
     "name": "stdout",
     "output_type": "stream",
     "text": [
      "Torch dataset created.\n"
     ]
    }
   ],
   "source": [
    "# Create torch dataset\n",
    "class CommonLitDataset(torch.utils.data.Dataset):\n",
    "    def __init__(self, encodings, labels=None):\n",
    "        self.encodings = encodings\n",
    "        self.labels = labels\n",
    "    \n",
    "    def __getitem__(self, idx):\n",
    "        item = {key: torch.tensor(val[idx]) for key, val in self.encodings.items()}\n",
    "        if self.labels:\n",
    "            item['labels'] = torch.tensor(self.labels[idx])\n",
    "        \n",
    "        return item\n",
    "        \n",
    "    def __len__(self):\n",
    "        return len(self.encodings[\"input_ids\"])\n",
    "               \n",
    "train_dataset = CommonLitDataset(train_encodings, train_labels)\n",
    "valid_dataset = CommonLitDataset(valid_encodings, valid_labels)\n",
    "print('Torch dataset created.')"
   ]
  },
  {
   "cell_type": "code",
   "execution_count": 7,
   "id": "knowing-recording",
   "metadata": {
    "execution": {
     "iopub.execute_input": "2021-08-02T10:04:12.095859Z",
     "iopub.status.busy": "2021-08-02T10:04:12.094772Z",
     "iopub.status.idle": "2021-08-02T10:04:12.156762Z",
     "shell.execute_reply": "2021-08-02T10:04:12.157246Z",
     "shell.execute_reply.started": "2021-08-02T09:54:19.596078Z"
    },
    "papermill": {
     "duration": 0.09341,
     "end_time": "2021-08-02T10:04:12.157432",
     "exception": false,
     "start_time": "2021-08-02T10:04:12.064022",
     "status": "completed"
    },
    "tags": []
   },
   "outputs": [
    {
     "name": "stderr",
     "output_type": "stream",
     "text": [
      "Using the `WAND_DISABLED` environment variable is deprecated and will be removed in v5. Use the --report_to flag to control the integrations used for logging result (for instance --report_to none).\n"
     ]
    },
    {
     "name": "stdout",
     "output_type": "stream",
     "text": [
      "Train arguments set up.\n"
     ]
    }
   ],
   "source": [
    "# Define computing metrics Trainer.\n",
    "from transformers import EarlyStoppingCallback\n",
    "\n",
    "def model_init():\n",
    "    return DistilBertForSequenceClassification.from_pretrained(PRETRAINED_INPUT_DIR, num_labels=1, return_dict=True)\n",
    "\n",
    "def compute_metrics(p: EvalPrediction):\n",
    "    preds = p.predictions[0] if isinstance(p.predictions, tuple) else p.predictions \n",
    "    preds = np.squeeze(preds) \n",
    "    return {\"rmse\": mean_squared_error(y_true=p.label_ids, y_pred=preds, squared=False)}\n",
    "\n",
    "def make_hp_space(trial):\n",
    "    return {\n",
    "        \"learning_rate\": trial.suggest_float(\"learning_rate\", 1e-5, 1, log=True),\n",
    "        \"num_train_epochs\": trial.suggest_int(\"num_train_epochs\", 1, 5),\n",
    "        \"seed\": trial.suggest_int(\"seed\", 1, 40),\n",
    "        \"per_device_train_batch_size\": trial.suggest_categorical(\"per_device_train_batch_size\", [4, 8, 16, 32]),\n",
    "        \"per_device_eval_batch_size\": trial.suggest_categorical(\"per_device_eval_batch_size\", [4, 8, 16, 32]),\n",
    "        \"weight_decay\": trial.suggest_float(\"weight_decay\", 0, 1, step=0.1),\n",
    "        \"warmup_steps\": trial.suggest_int(\"warmup_steps\", 0, 500, step=100),\n",
    "        \"adam_epsilon\": trial.suggest_float(\"adam_epsilon\", 1e-10, 1e-6, log=True)\n",
    "    }\n",
    "\n",
    "def get_objective_metric(metrics):\n",
    "    return metrics['eval_rmse']\n",
    "\n",
    "# Define Trainer parameters\n",
    "os.environ[\"WANDB_DISABLED\"] = \"true\"\n",
    "batch_size = 16\n",
    "training_args = TrainingArguments(\n",
    "    # The output directory where the model predictions \n",
    "    # and checkpoints will be written.\n",
    "    output_dir='/kaggle/working/output',\n",
    "    \n",
    "    # Overwrite the content of the output directory.\n",
    "    overwrite_output_dir=True,\n",
    "    \n",
    "    # Whether to run training or not.\n",
    "    do_train=True,\n",
    "    \n",
    "    # Whether to run evoluation on the dev or not.\n",
    "    do_eval=True,\n",
    "    \n",
    "    # Batch size GPU/TPU core/CPU for training\n",
    "    per_device_train_batch_size=batch_size,\n",
    "    \n",
    "    # Batch size GPU/TPU core/CPU for evaluation\n",
    "    per_device_eval_batch_size=batch_size * 4, #batch_size * 2, \n",
    "    \n",
    "    # Evaluation strategy to adopt during training.\n",
    "    evaluation_strategy=\"steps\",\n",
    "    \n",
    "    # How often to show logs.\n",
    "    logging_steps=100,\n",
    "    \n",
    "    # Number of update steps between two \n",
    "    # evaluations if evaluation_strategy=\"steps\".\n",
    "    # Will default to the same value as l\n",
    "    # logging_steps if not set.\n",
    "    eval_steps=100,\n",
    "    \n",
    "    # Set prediction loss to 'True' in order to \n",
    "    # return loss for perplexity calculation\n",
    "    # prediction_loss_only=True,\n",
    "    \n",
    "    # The initial learning rate for Adam.\n",
    "    # Default to 5e-5\n",
    "    learning_rate= 2.5e-5,\n",
    "    \n",
    "    # The weigth decay to apply (if not zero)\n",
    "    weight_decay=1.5, #1.0, #0.0,\n",
    "    \n",
    "    # Epsilon for Adam optimizer,\n",
    "    # Defaults to 1e-8\n",
    "    adam_epsilon=3.890824499297403e-10, #1e-8,\n",
    "    \n",
    "    # Maximum gradient norm (for gradient \n",
    "    # clipping). Defaults to 0.\n",
    "    max_grad_norm=0,\n",
    "    \n",
    "    # Total number of training epochs to perform \n",
    "    # (if not an integer, will perform the \n",
    "    # decimal part percents of\n",
    "    # the last epoch before stopping training).\n",
    "    num_train_epochs=5, #3,\n",
    "\n",
    "    # Number of updates steps before two checkpoint saves. \n",
    "    # Defaults to 500\n",
    "    # save_steps=-1,\n",
    "    \n",
    "    # Number of steps used for a linear warmup from 0 to learning_rate.\n",
    "    warmup_steps=500, \n",
    "    \n",
    "    # Use in conjunction with load_best_model_at_end to specify \n",
    "    # the metric to use to compare two different models.\n",
    "    metric_for_best_model=\"eval_rmse\",\n",
    "    \n",
    "    # Whether or not to load the best model found during training \n",
    "    # at the end of training.\n",
    "    load_best_model_at_end=True,\n",
    "    \n",
    "    # Use in conjunction with load_best_model_at_end and metric_for_best_model \n",
    "    # to specify if better models should have a greater metric or not. \n",
    "    greater_is_better=False,\n",
    "    \n",
    "    # TensorBoard log directory.\n",
    "    logging_dir='/kaggle/working/logs',\n",
    "    \n",
    "    # Random seed that will be set at the beginning of training.\n",
    "    seed=18, #0,\n",
    "    \n",
    "    # The list of integrations to report the results and logs to.\n",
    "    report_to=None\n",
    ")\n",
    "\n",
    "print('Train arguments set up.')"
   ]
  },
  {
   "cell_type": "code",
   "execution_count": 8,
   "id": "large-festival",
   "metadata": {
    "execution": {
     "iopub.execute_input": "2021-08-02T10:04:12.195327Z",
     "iopub.status.busy": "2021-08-02T10:04:12.194496Z",
     "iopub.status.idle": "2021-08-02T10:04:28.853459Z",
     "shell.execute_reply": "2021-08-02T10:04:28.853868Z",
     "shell.execute_reply.started": "2021-08-02T09:54:19.625912Z"
    },
    "papermill": {
     "duration": 16.680792,
     "end_time": "2021-08-02T10:04:28.854031",
     "exception": false,
     "start_time": "2021-08-02T10:04:12.173239",
     "status": "completed"
    },
    "tags": []
   },
   "outputs": [
    {
     "name": "stdout",
     "output_type": "stream",
     "text": [
      "Loading `Trainer`...\n"
     ]
    },
    {
     "name": "stderr",
     "output_type": "stream",
     "text": [
      "Some weights of DistilBertForSequenceClassification were not initialized from the model checkpoint at /kaggle/input/bert-pretrained-models-data/distilbert/ and are newly initialized: ['pre_classifier.weight', 'classifier.weight', 'classifier.bias', 'pre_classifier.bias']\n",
      "You should probably TRAIN this model on a down-stream task to be able to use it for predictions and inference.\n"
     ]
    },
    {
     "name": "stdout",
     "output_type": "stream",
     "text": [
      "`Trainer` loaded.\n"
     ]
    }
   ],
   "source": [
    "print(\"Loading `Trainer`...\")\n",
    "trainer = Trainer(\n",
    "    args=training_args,\n",
    "    train_dataset=train_dataset,\n",
    "    eval_dataset=valid_dataset,\n",
    "    compute_metrics=compute_metrics,\n",
    "    model_init=model_init,\n",
    "    callbacks=[EarlyStoppingCallback(early_stopping_patience=3)],\n",
    "    tokenizer=tokenizer\n",
    ")\n",
    "print(\"`Trainer` loaded.\")"
   ]
  },
  {
   "cell_type": "code",
   "execution_count": 9,
   "id": "joint-bicycle",
   "metadata": {
    "execution": {
     "iopub.execute_input": "2021-08-02T10:04:29.075621Z",
     "iopub.status.busy": "2021-08-02T10:04:29.075016Z",
     "iopub.status.idle": "2021-08-02T10:08:43.657326Z",
     "shell.execute_reply": "2021-08-02T10:08:43.656854Z",
     "shell.execute_reply.started": "2021-08-02T09:54:24.458479Z"
    },
    "papermill": {
     "duration": 254.787445,
     "end_time": "2021-08-02T10:08:43.657656",
     "exception": false,
     "start_time": "2021-08-02T10:04:28.870211",
     "status": "completed"
    },
    "tags": []
   },
   "outputs": [
    {
     "name": "stderr",
     "output_type": "stream",
     "text": [
      "Some weights of DistilBertForSequenceClassification were not initialized from the model checkpoint at /kaggle/input/bert-pretrained-models-data/distilbert/ and are newly initialized: ['pre_classifier.weight', 'classifier.weight', 'classifier.bias', 'pre_classifier.bias']\n",
      "You should probably TRAIN this model on a down-stream task to be able to use it for predictions and inference.\n"
     ]
    },
    {
     "data": {
      "text/html": [
       "\n",
       "    <div>\n",
       "        <style>\n",
       "            /* Turns off some styling */\n",
       "            progress {\n",
       "                /* gets rid of default border in Firefox and Opera. */\n",
       "                border: none;\n",
       "                /* Needs to be in here for Safari polyfill so background images work as expected. */\n",
       "                background-size: auto;\n",
       "            }\n",
       "        </style>\n",
       "      \n",
       "      <progress value='665' max='665' style='width:300px; height:20px; vertical-align: middle;'></progress>\n",
       "      [665/665 04:09, Epoch 5/5]\n",
       "    </div>\n",
       "    <table border=\"1\" class=\"dataframe\">\n",
       "  <thead>\n",
       "    <tr style=\"text-align: left;\">\n",
       "      <th>Step</th>\n",
       "      <th>Training Loss</th>\n",
       "      <th>Validation Loss</th>\n",
       "      <th>Rmse</th>\n",
       "      <th>Runtime</th>\n",
       "      <th>Samples Per Second</th>\n",
       "    </tr>\n",
       "  </thead>\n",
       "  <tbody>\n",
       "    <tr>\n",
       "      <td>100</td>\n",
       "      <td>1.547000</td>\n",
       "      <td>0.880095</td>\n",
       "      <td>0.938134</td>\n",
       "      <td>3.179700</td>\n",
       "      <td>222.980000</td>\n",
       "    </tr>\n",
       "    <tr>\n",
       "      <td>200</td>\n",
       "      <td>0.544000</td>\n",
       "      <td>0.353019</td>\n",
       "      <td>0.594154</td>\n",
       "      <td>3.176500</td>\n",
       "      <td>223.199000</td>\n",
       "    </tr>\n",
       "    <tr>\n",
       "      <td>300</td>\n",
       "      <td>0.329100</td>\n",
       "      <td>0.365839</td>\n",
       "      <td>0.604847</td>\n",
       "      <td>3.174700</td>\n",
       "      <td>223.329000</td>\n",
       "    </tr>\n",
       "    <tr>\n",
       "      <td>400</td>\n",
       "      <td>0.279700</td>\n",
       "      <td>0.281096</td>\n",
       "      <td>0.530184</td>\n",
       "      <td>3.198100</td>\n",
       "      <td>221.693000</td>\n",
       "    </tr>\n",
       "    <tr>\n",
       "      <td>500</td>\n",
       "      <td>0.174200</td>\n",
       "      <td>0.271636</td>\n",
       "      <td>0.521187</td>\n",
       "      <td>3.169100</td>\n",
       "      <td>223.722000</td>\n",
       "    </tr>\n",
       "    <tr>\n",
       "      <td>600</td>\n",
       "      <td>0.141200</td>\n",
       "      <td>0.262859</td>\n",
       "      <td>0.512698</td>\n",
       "      <td>3.177000</td>\n",
       "      <td>223.167000</td>\n",
       "    </tr>\n",
       "  </tbody>\n",
       "</table><p>"
      ],
      "text/plain": [
       "<IPython.core.display.HTML object>"
      ]
     },
     "metadata": {},
     "output_type": "display_data"
    },
    {
     "data": {
      "text/plain": [
       "TrainOutput(global_step=665, training_loss=0.463424073126083, metrics={'train_runtime': 250.9362, 'train_samples_per_second': 2.65, 'total_flos': 1340256519217500.0, 'epoch': 5.0, 'init_mem_cpu_alloc_delta': 2265829376, 'init_mem_gpu_alloc_delta': 268950016, 'init_mem_cpu_peaked_delta': 300285952, 'init_mem_gpu_peaked_delta': 0, 'train_mem_cpu_alloc_delta': 473534464, 'train_mem_gpu_alloc_delta': 1087668224, 'train_mem_cpu_peaked_delta': 157048832, 'train_mem_gpu_peaked_delta': 2814502912})"
      ]
     },
     "metadata": {},
     "output_type": "display_data"
    }
   ],
   "source": [
    "# Train pre-trained model\n",
    "if training_args.do_train:\n",
    "    train_results = trainer.train()\n",
    "    display(train_results)"
   ]
  },
  {
   "cell_type": "code",
   "execution_count": 10,
   "id": "offshore-british",
   "metadata": {
    "execution": {
     "iopub.execute_input": "2021-08-02T10:08:43.704670Z",
     "iopub.status.busy": "2021-08-02T10:08:43.702759Z",
     "iopub.status.idle": "2021-08-02T10:08:43.705366Z",
     "shell.execute_reply": "2021-08-02T10:08:43.705973Z",
     "shell.execute_reply.started": "2021-08-02T09:58:59.788190Z"
    },
    "papermill": {
     "duration": 0.029498,
     "end_time": "2021-08-02T10:08:43.706149",
     "exception": false,
     "start_time": "2021-08-02T10:08:43.676651",
     "status": "completed"
    },
    "tags": []
   },
   "outputs": [],
   "source": [
    "import math\n",
    "# Keep track of train models and evaluate loss.\n",
    "loss_history = {'train_loss':[], 'eval_loss':[]}\n",
    "\n",
    "# Keep track of train and evaluate perplexity\n",
    "perplexity_history = {'train_perplexity':[], 'eval_perplexity':[]}\n",
    "for log_history in trainer.state.log_history:\n",
    "    if 'loss' in log_history.keys():\n",
    "        loss_history['train_loss'].append(log_history['loss'])\n",
    "        perplexity_history['train_perplexity'].append(math.exp(log_history['loss']))\n",
    "        \n",
    "    elif 'eval_loss' in log_history.keys():\n",
    "        loss_history['eval_loss'].append(log_history['eval_loss'])\n",
    "        perplexity_history['eval_perplexity'].append(math.exp(log_history['eval_loss']))"
   ]
  },
  {
   "cell_type": "code",
   "execution_count": 11,
   "id": "appreciated-department",
   "metadata": {
    "execution": {
     "iopub.execute_input": "2021-08-02T10:08:43.753310Z",
     "iopub.status.busy": "2021-08-02T10:08:43.752637Z",
     "iopub.status.idle": "2021-08-02T10:08:44.154232Z",
     "shell.execute_reply": "2021-08-02T10:08:44.153735Z",
     "shell.execute_reply.started": "2021-08-02T09:58:59.800892Z"
    },
    "papermill": {
     "duration": 0.427644,
     "end_time": "2021-08-02T10:08:44.154365",
     "exception": false,
     "start_time": "2021-08-02T10:08:43.726721",
     "status": "completed"
    },
    "tags": []
   },
   "outputs": [
    {
     "data": {
      "text/plain": [
       "<AxesSubplot:>"
      ]
     },
     "execution_count": 11,
     "metadata": {},
     "output_type": "execute_result"
    },
    {
     "data": {
      "image/png": "[encoded data removed]",
      "text/plain": [
       "<Figure size 432x288 with 1 Axes>"
      ]
     },
     "metadata": {},
     "output_type": "display_data"
    }
   ],
   "source": [
    "import matplotlib.pyplot as plt\n",
    "import seaborn as sns\n",
    "\n",
    "sns.set_style(\"whitegrid\")\n",
    "sns.lineplot(data=loss_history)"
   ]
  },
  {
   "cell_type": "code",
   "execution_count": 12,
   "id": "healthy-enclosure",
   "metadata": {
    "execution": {
     "iopub.execute_input": "2021-08-02T10:08:44.237229Z",
     "iopub.status.busy": "2021-08-02T10:08:44.228106Z",
     "iopub.status.idle": "2021-08-02T10:08:44.459239Z",
     "shell.execute_reply": "2021-08-02T10:08:44.458792Z",
     "shell.execute_reply.started": "2021-08-02T09:59:00.191375Z"
    },
    "papermill": {
     "duration": 0.285356,
     "end_time": "2021-08-02T10:08:44.459382",
     "exception": false,
     "start_time": "2021-08-02T10:08:44.174026",
     "status": "completed"
    },
    "tags": []
   },
   "outputs": [
    {
     "data": {
      "text/plain": [
       "<AxesSubplot:>"
      ]
     },
     "execution_count": 12,
     "metadata": {},
     "output_type": "execute_result"
    },
    {
     "data": {
      "image/png": "[encoded data removed]",
      "text/plain": [
       "<Figure size 432x288 with 1 Axes>"
      ]
     },
     "metadata": {},
     "output_type": "display_data"
    }
   ],
   "source": [
    "sns.set_style(\"whitegrid\")\n",
    "sns.lineplot(data=perplexity_history)"
   ]
  },
  {
   "cell_type": "code",
   "execution_count": 13,
   "id": "christian-consensus",
   "metadata": {
    "execution": {
     "iopub.execute_input": "2021-08-02T10:08:44.702035Z",
     "iopub.status.busy": "2021-08-02T10:08:44.701242Z",
     "iopub.status.idle": "2021-08-02T10:08:48.113302Z",
     "shell.execute_reply": "2021-08-02T10:08:48.112421Z",
     "shell.execute_reply.started": "2021-08-02T09:59:00.588737Z"
    },
    "papermill": {
     "duration": 3.633494,
     "end_time": "2021-08-02T10:08:48.113492",
     "exception": false,
     "start_time": "2021-08-02T10:08:44.479998",
     "status": "completed"
    },
    "tags": []
   },
   "outputs": [
    {
     "data": {
      "text/html": [
       "\n",
       "    <div>\n",
       "        <style>\n",
       "            /* Turns off some styling */\n",
       "            progress {\n",
       "                /* gets rid of default border in Firefox and Opera. */\n",
       "                border: none;\n",
       "                /* Needs to be in here for Safari polyfill so background images work as expected. */\n",
       "                background-size: auto;\n",
       "            }\n",
       "        </style>\n",
       "      \n",
       "      <progress value='13' max='12' style='width:300px; height:20px; vertical-align: middle;'></progress>\n",
       "      [12/12 00:03]\n",
       "    </div>\n",
       "    "
      ],
      "text/plain": [
       "<IPython.core.display.HTML object>"
      ]
     },
     "metadata": {},
     "output_type": "display_data"
    },
    {
     "name": "stdout",
     "output_type": "stream",
     "text": [
      "\n",
      "Evaluate Perplexity: 1.301\n",
      "Evaluate RMSE: 0.513\n"
     ]
    }
   ],
   "source": [
    "if training_args.do_eval:    \n",
    "    eval_output = trainer.evaluate()\n",
    "    perplexity = math.exp(eval_output['eval_loss'])\n",
    "    rmse = eval_output['eval_rmse']\n",
    "    print('\\nEvaluate Perplexity: {:3,.3f}'.format(perplexity))\n",
    "    print('Evaluate RMSE: {:3,.3f}'.format(rmse))\n",
    "else:\n",
    "    print('No evaluation needed. No evaluation data provided, `do_eval=False`!')"
   ]
  },
  {
   "cell_type": "code",
   "execution_count": 14,
   "id": "asian-charm",
   "metadata": {
    "execution": {
     "iopub.execute_input": "2021-08-02T10:08:48.166016Z",
     "iopub.status.busy": "2021-08-02T10:08:48.165392Z",
     "iopub.status.idle": "2021-08-02T10:08:48.636501Z",
     "shell.execute_reply": "2021-08-02T10:08:48.637364Z",
     "shell.execute_reply.started": "2021-08-02T09:59:04.187309Z"
    },
    "papermill": {
     "duration": 0.501584,
     "end_time": "2021-08-02T10:08:48.637591",
     "exception": false,
     "start_time": "2021-08-02T10:08:48.136007",
     "status": "completed"
    },
    "tags": []
   },
   "outputs": [
    {
     "name": "stdout",
     "output_type": "stream",
     "text": [
      "Prediction done\n"
     ]
    }
   ],
   "source": [
    "# Load test data\n",
    "test_dataframe = pd.read_csv('/kaggle/input/commonlitreadabilityprize/test.csv', doublequote=True)\n",
    "test_texts = test_dataframe.rename(columns={'excerpt':'text'})['text'].to_list()\n",
    "test_encodings  = tokenizer(test_texts, truncation=True, padding=True)\n",
    "\n",
    "# Create torch dataset\n",
    "test_dataset  = CommonLitDataset(test_encodings)\n",
    "\n",
    "y_pred=trainer.predict(test_dataset)\n",
    "\n",
    "print('Prediction done')"
   ]
  },
  {
   "cell_type": "code",
   "execution_count": 15,
   "id": "organized-intermediate",
   "metadata": {
    "execution": {
     "iopub.execute_input": "2021-08-02T10:08:48.688446Z",
     "iopub.status.busy": "2021-08-02T10:08:48.687511Z",
     "iopub.status.idle": "2021-08-02T10:08:48.854718Z",
     "shell.execute_reply": "2021-08-02T10:08:48.853970Z",
     "shell.execute_reply.started": "2021-08-02T09:59:04.668400Z"
    },
    "papermill": {
     "duration": 0.195021,
     "end_time": "2021-08-02T10:08:48.854889",
     "exception": false,
     "start_time": "2021-08-02T10:08:48.659868",
     "status": "completed"
    },
    "tags": []
   },
   "outputs": [
    {
     "name": "stdout",
     "output_type": "stream",
     "text": [
      "          id    target\n",
      "0  c0f722661 -0.396497\n",
      "1  f0953f0a5 -0.467817\n",
      "2  0df072751 -0.275873\n",
      "3  04caf4e0c -2.176110\n",
      "4  0e63f8bea -1.912005\n",
      "5  12537fe78 -1.278331\n",
      "6  965e592c0  0.398807\n",
      "Test evaluation submitted.\n"
     ]
    }
   ],
   "source": [
    "# Save test predictions to file\n",
    "np.set_printoptions(precision=1)\n",
    "output = pd.DataFrame({'id': test_dataframe['id'],\n",
    "                       'target': y_pred.predictions[:, 0]})\n",
    "output.to_csv('submission.csv', index=False, float_format='%.1f')\n",
    "print(output)\n",
    "print('Test evaluation submitted.')"
   ]
  },
  {
   "cell_type": "code",
   "execution_count": 16,
   "id": "built-garage",
   "metadata": {
    "execution": {
     "iopub.execute_input": "2021-08-02T10:08:48.911195Z",
     "iopub.status.busy": "2021-08-02T10:08:48.910561Z",
     "iopub.status.idle": "2021-08-02T10:08:48.916628Z",
     "shell.execute_reply": "2021-08-02T10:08:48.915863Z",
     "shell.execute_reply.started": "2021-08-02T09:59:04.688135Z"
    },
    "papermill": {
     "duration": 0.034664,
     "end_time": "2021-08-02T10:08:48.916817",
     "exception": false,
     "start_time": "2021-08-02T10:08:48.882153",
     "status": "completed"
    },
    "tags": []
   },
   "outputs": [
    {
     "name": "stdout",
     "output_type": "stream",
     "text": [
      "Time elapsed (hh:mm:ss.ms) 0:04:53.829008\n"
     ]
    }
   ],
   "source": [
    "time_elapsed = datetime.now() - start_time \n",
    "print('Time elapsed (hh:mm:ss.ms) {}'.format(time_elapsed))"
   ]
  }
 ],
 "metadata": {
  "kernelspec": {
   "display_name": "Python 3 (ipykernel)",
   "language": "python",
   "name": "python3"
  },
  "language_info": {
   "codemirror_mode": {
    "name": "ipython",
    "version": 3
   },
   "file_extension": ".py",
   "mimetype": "text/x-python",
   "name": "python",
   "nbconvert_exporter": "python",
   "pygments_lexer": "ipython3",
   "version": "3.8.12"
  },
  "papermill": {
   "default_parameters": {},
   "duration": 311.878362,
   "end_time": "2021-08-02T10:08:52.021040",
   "environment_variables": {},
   "exception": null,
   "input_path": "__notebook__.ipynb",
   "output_path": "__notebook__.ipynb",
   "parameters": {},
   "start_time": "2021-08-02T10:03:40.142678",
   "version": "2.3.3"
  }
 },
 "nbformat": 4,
 "nbformat_minor": 5
}
