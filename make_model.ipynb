{
 "cells": [
  {
   "attachments": {},
   "cell_type": "markdown",
   "metadata": {},
   "source": [
    "## Questão de negócio\n",
    "\n",
    "O aprendizado de máquina pode identificar o nível de leitura apropriado de uma passagem de texto e ajudar a inspirar o aprendizado? A leitura é uma habilidade essencial para o sucesso acadêmico. Quando os alunos têm acesso a passagens envolventes que oferecem o nível certo de desafio, eles naturalmente desenvolvem habilidades de leitura."
   ]
  },
  {
   "attachments": {},
   "cell_type": "markdown",
   "metadata": {},
   "source": [
    "## Pacotes Python necessários.\n",
    "\n",
    "* Pandas\n",
    "* Numpy \n",
    "* Sklearn"
   ]
  },
  {
   "cell_type": "code",
   "execution_count": null,
   "metadata": {},
   "outputs": [],
   "source": [
    "# Pacotes necessários\n",
    "import pandas as pd"
   ]
  },
  {
   "attachments": {},
   "cell_type": "markdown",
   "metadata": {},
   "source": []
  },
  {
   "attachments": {},
   "cell_type": "markdown",
   "metadata": {},
   "source": [
    "## Coleta de dados\n",
    "\n",
    "**Dataset description**\n",
    "\n",
    "**Arquivos**\n",
    "* train.csv\n",
    "* test.csv"
   ]
  },
  {
   "cell_type": "code",
   "execution_count": null,
   "metadata": {},
   "outputs": [],
   "source": []
  },
  {
   "attachments": {},
   "cell_type": "markdown",
   "metadata": {},
   "source": [
    "## Pré-processamento de dados"
   ]
  },
  {
   "attachments": {},
   "cell_type": "markdown",
   "metadata": {},
   "source": [
    "### 1. Limpeza de dados\n",
    "\n",
    "### 2. Normalização de dados\n",
    "\n",
    "### 3. Tokenização\n",
    "\n",
    "### 4. Remoção de palavras irrelevantes\n",
    "\n",
    "### 5. Vetorização "
   ]
  },
  {
   "attachments": {},
   "cell_type": "markdown",
   "metadata": {},
   "source": [
    "## Treinamento do Modelo"
   ]
  },
  {
   "attachments": {},
   "cell_type": "markdown",
   "metadata": {},
   "source": [
    "## Teste do Modelo"
   ]
  },
  {
   "attachments": {},
   "cell_type": "markdown",
   "metadata": {},
   "source": [
    "## Gravação do Modelo"
   ]
  }
 ],
 "metadata": {
  "language_info": {
   "name": "python"
  },
  "orig_nbformat": 4
 },
 "nbformat": 4,
 "nbformat_minor": 2
}
